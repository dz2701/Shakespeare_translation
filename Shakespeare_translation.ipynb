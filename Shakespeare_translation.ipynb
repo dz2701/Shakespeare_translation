{
  "nbformat": 4,
  "nbformat_minor": 0,
  "metadata": {
    "colab": {
      "name": "Shakespeare translation.ipynb",
      "provenance": [],
      "mount_file_id": "1fbb1NWtf73zrMRYGal6Z4NmlH5kknP4Y",
      "authorship_tag": "ABX9TyMFGHgwniZw0/VSdAQCdRD/",
      "include_colab_link": true
    },
    "kernelspec": {
      "name": "python3",
      "display_name": "Python 3"
    },
    "language_info": {
      "name": "python"
    }
  },
  "cells": [
    {
      "cell_type": "markdown",
      "metadata": {
        "id": "view-in-github",
        "colab_type": "text"
      },
      "source": [
        "<a href=\"https://colab.research.google.com/github/dz2701/Shakespeare_translation/blob/main/Shakespeare_translation.ipynb\" target=\"_parent\"><img src=\"https://colab.research.google.com/assets/colab-badge.svg\" alt=\"Open In Colab\"/></a>"
      ]
    },
    {
      "cell_type": "markdown",
      "metadata": {
        "id": "EJXj_7qSkAc4"
      },
      "source": [
        "<h1><b>Fairly simple implementation, but some problems:</b></h1>\n",
        "<ul>\n",
        "<li>Unable to recognize capitalized letters -> fixed by .lower()</li>\n",
        "<li>Will not recognize different tenses</li>\n",
        "<li>Small vocab pool; may consider web crawling from a website</li>\n",
        "<li>Punctuation close to words will disable translation</li>\n",
        "</ul>\n",
        "<h2>And many more issues, but for now this is enough :D</h2>\n"
      ]
    },
    {
      "cell_type": "markdown",
      "metadata": {
        "id": "2k9WoSr7eWlz"
      },
      "source": [
        "In order to 'translate' word to word aa phrase in shakespearian vocab, we can simply create a library with shakespearian word to modern word key pair and go through the given string to replace any matching pair."
      ]
    },
    {
      "cell_type": "code",
      "metadata": {
        "id": "03uGntywdz_T"
      },
      "source": [
        "wordpair = {} #dictionary with pairs. can be considered as a std::map in C++\n",
        "index = [] #list of indexes"
      ],
      "execution_count": null,
      "outputs": []
    },
    {
      "cell_type": "code",
      "metadata": {
        "id": "4goRmyoxd-Wb"
      },
      "source": [
        "#fill dictionary with pairs\n",
        "wordpair[\"avaunt\"] = \"go away!\"\n"
      ],
      "execution_count": null,
      "outputs": []
    },
    {
      "cell_type": "code",
      "metadata": {
        "id": "jlqkITa1fFhB"
      },
      "source": [
        "#fill array with indexes\n",
        "index.append(\"avaunt\")"
      ],
      "execution_count": null,
      "outputs": []
    },
    {
      "cell_type": "code",
      "metadata": {
        "colab": {
          "base_uri": "https://localhost:8080/"
        },
        "id": "0dFLNZZjeRhz",
        "outputId": "00919ff7-9a50-4e78-ab5f-03b3fa52e2e9"
      },
      "source": [
        "#get input from keyboard\n",
        "original_string = input()"
      ],
      "execution_count": null,
      "outputs": [
        {
          "output_type": "stream",
          "text": [
            "you avaunt\n"
          ],
          "name": "stdout"
        }
      ]
    },
    {
      "cell_type": "code",
      "metadata": {
        "colab": {
          "base_uri": "https://localhost:8080/",
          "height": 35
        },
        "id": "hXrj86pJes-o",
        "outputId": "9925d951-5ce2-422d-a8e3-11662cc9c072"
      },
      "source": [
        "for id in index:\n",
        "  original_string = original_string.replace(id,wordpair[id])\n",
        "\n",
        "original_string"
      ],
      "execution_count": null,
      "outputs": [
        {
          "output_type": "execute_result",
          "data": {
            "application/vnd.google.colaboratory.intrinsic+json": {
              "type": "string"
            },
            "text/plain": [
              "'you go away!'"
            ]
          },
          "metadata": {
            "tags": []
          },
          "execution_count": 21
        }
      ]
    },
    {
      "cell_type": "code",
      "metadata": {
        "id": "GotuI840gXlU"
      },
      "source": [
        ""
      ],
      "execution_count": null,
      "outputs": []
    },
    {
      "cell_type": "markdown",
      "metadata": {
        "id": "3xLuDqL0g2Xc"
      },
      "source": [
        "Inputting every single key pair into the array by hand would be very very tiring, so let us read off a .csv file to automatically put those in the array."
      ]
    },
    {
      "cell_type": "code",
      "metadata": {
        "id": "BtGIo7a6g-K8"
      },
      "source": [
        "import pandas\n",
        "demofileroute = \"/content/drive/MyDrive/shakespeare_demo1.csv\""
      ],
      "execution_count": null,
      "outputs": []
    },
    {
      "cell_type": "code",
      "metadata": {
        "id": "RQQdO_p2imm0"
      },
      "source": [
        "df1 = pandas.read_csv(demofileroute)\n",
        "wordlist = df1.values.tolist()"
      ],
      "execution_count": null,
      "outputs": []
    },
    {
      "cell_type": "markdown",
      "metadata": {
        "id": "NL-CT3IUjezQ"
      },
      "source": [
        "Now here is the input + translation process:"
      ]
    },
    {
      "cell_type": "code",
      "metadata": {
        "colab": {
          "base_uri": "https://localhost:8080/"
        },
        "id": "FK47AsEmi-A0",
        "outputId": "57d72d65-6e28-4fab-c31a-58804e48cf84"
      },
      "source": [
        "input_string = input()\n",
        "input_string = input_string.lower()\n",
        "for pair in wordlist:\n",
        "  input_string = input_string.replace(pair[0],pair[1])\n",
        "\n",
        "print(input_string)"
      ],
      "execution_count": null,
      "outputs": [
        {
          "output_type": "stream",
          "text": [
            "Prithee, let us repair post-haste to yonder tavern for a pot of sack and some capon.\n",
            "I beg you, let us make your way to post-haste to yonder tavern for a pot of wine and some chicken.\n"
          ],
          "name": "stdout"
        }
      ]
    },
    {
      "cell_type": "code",
      "metadata": {
        "id": "POlgcBYTjrMy"
      },
      "source": [
        ""
      ],
      "execution_count": null,
      "outputs": []
    }
  ]
}